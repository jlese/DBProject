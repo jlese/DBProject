{
 "cells": [
  {
   "cell_type": "code",
   "execution_count": 15,
   "metadata": {},
   "outputs": [],
   "source": [
    "import pandas as pd\n"
   ]
  },
  {
   "cell_type": "code",
   "execution_count": 27,
   "metadata": {},
   "outputs": [],
   "source": [
    "denver_path = r\"C:\\Users\\Jack\\Desktop\\CS 4750\\DBProject\\denv_formatted.xlsx\"\n",
    "denver_df = pd.read_excel(denver_path)\n",
    "\n"
   ]
  },
  {
   "cell_type": "code",
   "execution_count": 30,
   "metadata": {},
   "outputs": [],
   "source": [
    "boston_path = r\"C:\\Users\\Jack\\Desktop\\CS 4750\\DBProject\\boston_formatted.xlsx\"\n",
    "boston_df = pd.read_excel(boston_path)"
   ]
  },
  {
   "cell_type": "code",
   "execution_count": 20,
   "metadata": {},
   "outputs": [],
   "source": [
    "nola_path = r\"C:\\Users\\Jack\\Desktop\\CS 4750\\DBProject\\nola_formatted.xlsx\"\n",
    "nola_df = pd.read_excel(nola_path)"
   ]
  },
  {
   "cell_type": "code",
   "execution_count": 21,
   "metadata": {},
   "outputs": [],
   "source": [
    "la_path = r\"C:\\Users\\Jack\\Desktop\\CS 4750\\DBProject\\la_formatted.xlsx\"\n",
    "la_df = pd.read_excel(la_path)"
   ]
  },
  {
   "cell_type": "code",
   "execution_count": 25,
   "metadata": {},
   "outputs": [],
   "source": [
    "def formatBRooms(df):\n",
    "    for i, row in df.iterrows():\n",
    "        textbath = str(row['bathrooms_text'])\n",
    "        textbed = str(row['bedrooms'])\n",
    "        \n",
    "        if textbath == \"nan\":\n",
    "            textbath = \"0\"\n",
    "        \n",
    "        if textbed ==\"nan\":\n",
    "            df.at[i, 'bedrooms'] = \"0\"\n",
    "            \n",
    "        textbath = textbath.split(\" \")\n",
    "        df.at[i, 'bathrooms_text'] = textbath[0]\n",
    "    return df\n",
    "    "
   ]
  },
  {
   "cell_type": "code",
   "execution_count": 28,
   "metadata": {},
   "outputs": [],
   "source": [
    "denver_df_clean = formatBRooms(denver_df)"
   ]
  },
  {
   "cell_type": "code",
   "execution_count": 31,
   "metadata": {},
   "outputs": [],
   "source": [
    "boston_df_clean = formatBRooms(boston_df)"
   ]
  },
  {
   "cell_type": "code",
   "execution_count": 32,
   "metadata": {},
   "outputs": [],
   "source": [
    "nola_df_clean = formatBRooms(nola_df)"
   ]
  },
  {
   "cell_type": "code",
   "execution_count": 33,
   "metadata": {},
   "outputs": [],
   "source": [
    "la_df_clean = formatBRooms(la_df)"
   ]
  },
  {
   "cell_type": "code",
   "execution_count": 34,
   "metadata": {},
   "outputs": [],
   "source": [
    "frames = [denver_df_clean, boston_df_clean, nola_df_clean, la_df_clean]\n",
    "\n",
    "result = pd.concat(frames)"
   ]
  },
  {
   "cell_type": "code",
   "execution_count": 35,
   "metadata": {},
   "outputs": [],
   "source": [
    "result.to_csv(r\"C:\\Users\\Jack\\Desktop\\CS 4750\\DBProject\\data_all.csv\")"
   ]
  },
  {
   "cell_type": "code",
   "execution_count": null,
   "metadata": {},
   "outputs": [],
   "source": []
  }
 ],
 "metadata": {
  "interpreter": {
   "hash": "7585bcfc7bd4285a5c0c3668190d33480725f5306be79947ed42d05dac851ae8"
  },
  "kernelspec": {
   "display_name": "Python 3.9.10 64-bit (windows store)",
   "language": "python",
   "name": "python3"
  },
  "language_info": {
   "codemirror_mode": {
    "name": "ipython",
    "version": 3
   },
   "file_extension": ".py",
   "mimetype": "text/x-python",
   "name": "python",
   "nbconvert_exporter": "python",
   "pygments_lexer": "ipython3",
   "version": "3.9.10"
  },
  "orig_nbformat": 4
 },
 "nbformat": 4,
 "nbformat_minor": 2
}
