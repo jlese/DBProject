{
 "cells": [
  {
   "cell_type": "code",
   "execution_count": 15,
   "metadata": {},
   "outputs": [],
   "source": [
    "import names\n",
    "import pandas as pd\n",
    "import string\n",
    "import random"
   ]
  },
  {
   "cell_type": "code",
   "execution_count": 5,
   "metadata": {},
   "outputs": [],
   "source": []
  },
  {
   "cell_type": "code",
   "execution_count": 9,
   "metadata": {},
   "outputs": [],
   "source": [
    "def random_char(char_num):\n",
    "       return ''.join(random.choice(string.ascii_letters) for _ in range(char_num))\n"
   ]
  },
  {
   "cell_type": "code",
   "execution_count": 11,
   "metadata": {},
   "outputs": [],
   "source": [
    "email_list = []\n",
    "\n",
    "for i in range(1, 65):\n",
    "    email_list.append(random_char(7)+\"@gmail.com\")"
   ]
  },
  {
   "cell_type": "code",
   "execution_count": 13,
   "metadata": {},
   "outputs": [],
   "source": [
    "account_dict = {}\n",
    "\n",
    "for i in range(1, 65):\n",
    "    \n",
    "    list = []\n",
    "\n",
    "    uname = ''.join(random.choices(string.ascii_letters+string.digits, k=10))\n",
    "    list.append(uname)\n",
    "    list.append(names.get_first_name())\n",
    "    list.append(names.get_last_name())\n",
    "    list.append(email_list[i-1])\n",
    "\n",
    "    account_dict[i] = list\n"
   ]
  },
  {
   "cell_type": "code",
   "execution_count": 17,
   "metadata": {},
   "outputs": [],
   "source": [
    "account_df = pd.DataFrame.from_dict(account_dict, orient='index')\n",
    "account_df.to_csv(r\"C:\\Users\\Jack\\Desktop\\CS 4750\\DBProject\\account_data\\accounts_raw_v2.csv\")"
   ]
  },
  {
   "cell_type": "code",
   "execution_count": null,
   "metadata": {},
   "outputs": [],
   "source": []
  }
 ],
 "metadata": {
  "interpreter": {
   "hash": "7585bcfc7bd4285a5c0c3668190d33480725f5306be79947ed42d05dac851ae8"
  },
  "kernelspec": {
   "display_name": "Python 3.9.10 64-bit (windows store)",
   "language": "python",
   "name": "python3"
  },
  "language_info": {
   "codemirror_mode": {
    "name": "ipython",
    "version": 3
   },
   "file_extension": ".py",
   "mimetype": "text/x-python",
   "name": "python",
   "nbconvert_exporter": "python",
   "pygments_lexer": "ipython3",
   "version": "3.9.10"
  },
  "orig_nbformat": 4
 },
 "nbformat": 4,
 "nbformat_minor": 2
}
